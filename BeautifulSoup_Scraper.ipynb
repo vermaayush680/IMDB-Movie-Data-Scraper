{
  "nbformat": 4,
  "nbformat_minor": 0,
  "metadata": {
    "colab": {
      "name": "Untitled23.ipynb",
      "provenance": [],
      "collapsed_sections": [],
      "authorship_tag": "ABX9TyMfKo8/JB4zUDgyjBQKtXfT",
      "include_colab_link": true
    },
    "kernelspec": {
      "name": "python3",
      "display_name": "Python 3"
    },
    "language_info": {
      "name": "python"
    }
  },
  "cells": [
    {
      "cell_type": "markdown",
      "metadata": {
        "id": "view-in-github",
        "colab_type": "text"
      },
      "source": [
        "<a href=\"https://colab.research.google.com/github/vermaayush680/IMDB-Movie-Data-Scraper/blob/main/BeautifulSoup_Scraper.ipynb\" target=\"_parent\"><img src=\"https://colab.research.google.com/assets/colab-badge.svg\" alt=\"Open In Colab\"/></a>"
      ]
    },
    {
      "cell_type": "code",
      "execution_count": null,
      "metadata": {
        "id": "3rSujlr7NPum"
      },
      "outputs": [],
      "source": [
        "import requests\n",
        "from time import sleep\n",
        "import numpy as np\n",
        "import pandas as pd\n",
        "from bs4 import BeautifulSoup"
      ]
    },
    {
      "cell_type": "code",
      "source": [
        "page = requests.get(url='https://www.imdb.com/chart/top/?sort=ur,desc&mode=simple&page=1')"
      ],
      "metadata": {
        "id": "qqeZ4wvNOMHQ"
      },
      "execution_count": null,
      "outputs": []
    },
    {
      "cell_type": "code",
      "source": [
        "content=page.text\n",
        "\n",
        "  # Beautifying the content code using BeautifulSoup\n",
        "soup=BeautifulSoup(content)"
      ],
      "metadata": {
        "id": "jjrJAa6OOkFu"
      },
      "execution_count": null,
      "outputs": []
    },
    {
      "cell_type": "code",
      "source": [
        "title = soup.find_all(\"td\", {\"class\": \"titleColumn\"})"
      ],
      "metadata": {
        "id": "RDPzchV4Oq7y"
      },
      "execution_count": null,
      "outputs": []
    },
    {
      "cell_type": "code",
      "source": [
        "for values in title:\n",
        "  for i,tag in enumerate(values):\n",
        "    if i==1:\n",
        "      tag = str(tag)\n",
        "      # print(tag[tag.index('>')+1:tag.index('</a>')])"
      ],
      "metadata": {
        "id": "snPYKrE-QGqd"
      },
      "execution_count": null,
      "outputs": []
    },
    {
      "cell_type": "code",
      "source": [
        "for values in title:\n",
        "  for i,year in enumerate(values):\n",
        "    if i==3:\n",
        "      year = str(year)\n",
        "      # print(year[year.index('>(')+2:year.index(')</span>')])"
      ],
      "metadata": {
        "id": "CgIv9bADQLjR"
      },
      "execution_count": null,
      "outputs": []
    },
    {
      "cell_type": "code",
      "source": [
        "links = []\n",
        "for values in title:\n",
        "  for i,tag in enumerate(values):\n",
        "    if i==1:\n",
        "      tag = str(tag)\n",
        "      links+=[tag[tag.index('href=\"')+6:tag.index('\" ')]]"
      ],
      "metadata": {
        "id": "sluaAFqsZZ17"
      },
      "execution_count": null,
      "outputs": []
    },
    {
      "cell_type": "code",
      "source": [
        "page1 = requests.get(url='https://www.imdb.com'+links[0])"
      ],
      "metadata": {
        "id": "M6HvO2bWaDXv"
      },
      "execution_count": null,
      "outputs": []
    },
    {
      "cell_type": "code",
      "source": [
        "content1=page1.text\n",
        "\n",
        "  # Beautifying the content code using BeautifulSoup\n",
        "soup1=BeautifulSoup(content1)"
      ],
      "metadata": {
        "id": "aqi5idVgaaYY"
      },
      "execution_count": null,
      "outputs": []
    },
    {
      "cell_type": "code",
      "source": [
        "soup1.find_all(\"span\",{\"class\":\"sc-8c396aa2-2\"})[0].string"
      ],
      "metadata": {
        "colab": {
          "base_uri": "https://localhost:8080/",
          "height": 35
        },
        "id": "wmXEbE7gaqVe",
        "outputId": "6987100b-d744-4284-d2d0-44cc61683259"
      },
      "execution_count": null,
      "outputs": [
        {
          "output_type": "execute_result",
          "data": {
            "text/plain": [
              "'1994'"
            ],
            "application/vnd.google.colaboratory.intrinsic+json": {
              "type": "string"
            }
          },
          "metadata": {},
          "execution_count": 67
        }
      ]
    },
    {
      "cell_type": "code",
      "source": [
        "soup1.find_all(\"h1\",{\"class\":\"sc-b73cd867-0\"})[0].string"
      ],
      "metadata": {
        "colab": {
          "base_uri": "https://localhost:8080/",
          "height": 35
        },
        "id": "qB1ImokpdMBD",
        "outputId": "1bdd5132-9c62-43dc-e301-c751853e3e3a"
      },
      "execution_count": null,
      "outputs": [
        {
          "output_type": "execute_result",
          "data": {
            "text/plain": [
              "'The Shawshank Redemption'"
            ],
            "application/vnd.google.colaboratory.intrinsic+json": {
              "type": "string"
            }
          },
          "metadata": {},
          "execution_count": 68
        }
      ]
    },
    {
      "cell_type": "code",
      "source": [
        "soup1.find_all(\"span\",{\"class\":\"sc-7ab21ed2-1\"})[0].string"
      ],
      "metadata": {
        "colab": {
          "base_uri": "https://localhost:8080/",
          "height": 35
        },
        "id": "2XpIj50adYcc",
        "outputId": "cac82aa4-d397-4e92-a243-d7944d2a290d"
      },
      "execution_count": null,
      "outputs": [
        {
          "output_type": "execute_result",
          "data": {
            "text/plain": [
              "'9.3'"
            ],
            "application/vnd.google.colaboratory.intrinsic+json": {
              "type": "string"
            }
          },
          "metadata": {},
          "execution_count": 70
        }
      ]
    },
    {
      "cell_type": "code",
      "source": [
        "soup1.find_all(\"div\",{\"class\":\"sc-7ab21ed2-3\"})[0].string"
      ],
      "metadata": {
        "colab": {
          "base_uri": "https://localhost:8080/",
          "height": 35
        },
        "id": "fl7HlHL2dw8T",
        "outputId": "4119c514-97f6-4ecc-9326-800018c388bd"
      },
      "execution_count": null,
      "outputs": [
        {
          "output_type": "execute_result",
          "data": {
            "text/plain": [
              "'2.6M'"
            ],
            "application/vnd.google.colaboratory.intrinsic+json": {
              "type": "string"
            }
          },
          "metadata": {},
          "execution_count": 71
        }
      ]
    },
    {
      "cell_type": "code",
      "source": [
        "soup1.find_all(\"div\",{\"class\":\"sc-edc76a2-1\"})[0].string"
      ],
      "metadata": {
        "colab": {
          "base_uri": "https://localhost:8080/",
          "height": 35
        },
        "id": "6gPYK1vvd9jy",
        "outputId": "442715f4-ea64-4e2a-896d-02f1c45f25ea"
      },
      "execution_count": null,
      "outputs": [
        {
          "output_type": "execute_result",
          "data": {
            "text/plain": [
              "'66'"
            ],
            "application/vnd.google.colaboratory.intrinsic+json": {
              "type": "string"
            }
          },
          "metadata": {},
          "execution_count": 72
        }
      ]
    },
    {
      "cell_type": "code",
      "source": [
        "for i in soup1.find_all(\"a\",{\"class\":\"sc-36c36dd0-1\"}):\n",
        "  print(i.string)"
      ],
      "metadata": {
        "colab": {
          "base_uri": "https://localhost:8080/"
        },
        "id": "v-JeLQpdePdf",
        "outputId": "1f227d0d-d568-4482-9c8b-f38a3c263244"
      },
      "execution_count": null,
      "outputs": [
        {
          "output_type": "stream",
          "name": "stdout",
          "text": [
            "Tim Robbins\n",
            "Morgan Freeman\n",
            "Bob Gunton\n",
            "William Sadler\n",
            "Clancy Brown\n",
            "Gil Bellows\n",
            "Mark Rolston\n",
            "James Whitmore\n",
            "Jeffrey DeMunn\n",
            "Larry Brandenburg\n",
            "Neil Giuntoli\n",
            "Brian Libby\n",
            "David Proval\n",
            "Joseph Ragno\n",
            "Jude Ciccolella\n",
            "Paul McCrane\n",
            "Renee Blaine\n",
            "Scott Mann\n"
          ]
        }
      ]
    },
    {
      "cell_type": "code",
      "source": [
        "soup1.find_all(\"a\",{\"class\":\"ipc-metadata-list-item__list-content-item\"})[0].string"
      ],
      "metadata": {
        "colab": {
          "base_uri": "https://localhost:8080/",
          "height": 35
        },
        "id": "s1sB6D-9fcLT",
        "outputId": "2ec36c8f-e040-48de-eeb3-af94be439bdf"
      },
      "execution_count": null,
      "outputs": [
        {
          "output_type": "execute_result",
          "data": {
            "text/plain": [
              "'Frank Darabont'"
            ],
            "application/vnd.google.colaboratory.intrinsic+json": {
              "type": "string"
            }
          },
          "metadata": {},
          "execution_count": 86
        }
      ]
    },
    {
      "cell_type": "code",
      "source": [
        "soup1.find_all(\"span\",{\"class\":\"sc-16ede01-2\"})[0].string"
      ],
      "metadata": {
        "colab": {
          "base_uri": "https://localhost:8080/",
          "height": 35
        },
        "id": "aO35V0aJflUg",
        "outputId": "25c78eb9-7595-48ca-f3c0-e2941adca3ed"
      },
      "execution_count": null,
      "outputs": [
        {
          "output_type": "execute_result",
          "data": {
            "text/plain": [
              "'Two imprisoned men bond over a number of years, finding solace and eventual redemption through acts of common decency.'"
            ],
            "application/vnd.google.colaboratory.intrinsic+json": {
              "type": "string"
            }
          },
          "metadata": {},
          "execution_count": 87
        }
      ]
    },
    {
      "cell_type": "code",
      "source": [
        "title=[]\n",
        "year = []\n",
        "rating = []\n",
        "num_reviews = []\n",
        "popularity = []\n",
        "cast = []\n",
        "director = []\n",
        "description = []"
      ],
      "metadata": {
        "id": "n4r2Xu_5dKVm"
      },
      "execution_count": null,
      "outputs": []
    },
    {
      "cell_type": "markdown",
      "source": [
        "# Main Extractor"
      ],
      "metadata": {
        "id": "VHFdeKeHJh_y"
      }
    },
    {
      "cell_type": "code",
      "source": [
        "for link in links:\n",
        "  page1 = requests.get(url='https://www.imdb.com'+link)\n",
        "  content1=page1.text\n",
        "  soup1=BeautifulSoup(content1)\n",
        "  try:\n",
        "    title+=[soup1.find_all(\"h1\",{\"class\":\"sc-b73cd867-0\"})[0].string]\n",
        "  except:\n",
        "    title+=[np.nan]\n",
        "  try:\n",
        "    year+=[soup1.find_all(\"span\",{\"class\":\"sc-8c396aa2-2\"})[0].string]\n",
        "  except:\n",
        "    title+=[np.nan]\n",
        "  try:\n",
        "    rating+=[soup1.find_all(\"span\",{\"class\":\"sc-7ab21ed2-1\"})[0].string]\n",
        "  except:\n",
        "    title+=[np.nan]\n",
        "  try:\n",
        "    num_reviews+=[soup1.find_all(\"div\",{\"class\":\"sc-7ab21ed2-3\"})[0].string]\n",
        "  except:\n",
        "    title+=[np.nan]\n",
        "  try:\n",
        "    popularity+=[soup1.find_all(\"div\",{\"class\":\"sc-edc76a2-1\"})[0].string]\n",
        "  except:\n",
        "    title+=[np.nan]\n",
        "  try:\n",
        "    l=[]\n",
        "    for i in soup1.find_all(\"a\",{\"class\":\"sc-36c36dd0-1\"}):\n",
        "      l+=[i.string]\n",
        "    cast+=[l]\n",
        "  except:\n",
        "    cast+=[np.nan]\n",
        "  try:\n",
        "    director+=[soup1.find_all(\"a\",{\"class\":\"ipc-metadata-list-item__list-content-item\"})[0].string]\n",
        "  except:\n",
        "    title+=[np.nan]\n",
        "  try:\n",
        "    description+=[soup1.find_all(\"span\",{\"class\":\"sc-16ede01-2\"})[0].string]\n",
        "  except:\n",
        "    title+=[np.nan]\n",
        "  print(title[-1])\n",
        "  sleep(2)"
      ],
      "metadata": {
        "colab": {
          "base_uri": "https://localhost:8080/"
        },
        "id": "4gqp6Fklaq8M",
        "outputId": "c9e9d4e4-967a-4d24-8af5-f06f1be45c45"
      },
      "execution_count": null,
      "outputs": [
        {
          "output_type": "stream",
          "name": "stdout",
          "text": [
            "The Shawshank Redemption\n",
            "The Godfather\n",
            "The Dark Knight\n",
            "The Godfather: Part II\n",
            "12 Angry Men\n",
            "Schindler's List\n",
            "The Lord of the Rings: The Return of the King\n",
            "Pulp Fiction\n",
            "The Lord of the Rings: The Fellowship of the Ring\n",
            "The Good, the Bad and the Ugly\n",
            "Forrest Gump\n",
            "Fight Club\n",
            "Inception\n",
            "The Lord of the Rings: The Two Towers\n",
            "Star Wars: Episode V - The Empire Strikes Back\n",
            "The Matrix\n",
            "Goodfellas\n",
            "One Flew Over the Cuckoo's Nest\n",
            "Se7en\n",
            "Seven Samurai\n",
            "It's a Wonderful Life\n",
            "The Silence of the Lambs\n",
            "City of God\n",
            "Saving Private Ryan\n",
            "Life Is Beautiful\n",
            "The Green Mile\n",
            "Interstellar\n",
            "Star Wars\n",
            "Terminator 2: Judgment Day\n",
            "Back to the Future\n",
            "Spirited Away\n",
            "Psycho\n",
            "The Pianist\n",
            "Léon: The Professional\n",
            "Parasite\n",
            "The Lion King\n",
            "Gladiator\n",
            "American History X\n",
            "The Usual Suspects\n",
            "The Departed\n",
            "The Prestige\n",
            "Casablanca\n",
            "Whiplash\n",
            "The Intouchables\n",
            "Top Gun: Maverick\n",
            "Modern Times\n",
            "Harakiri\n",
            "Grave of the Fireflies\n",
            "Once Upon a Time in the West\n",
            "Rear Window\n",
            "Alien\n",
            "nan\n",
            "Cinema Paradiso\n",
            "Memento\n",
            "Apocalypse Now\n",
            "Indiana Jones and the Raiders of the Lost Ark\n",
            "Django Unchained\n",
            "WALL·E\n",
            "The Lives of Others\n",
            "Sunset Blvd.\n",
            "Paths of Glory\n",
            "The Shining\n",
            "nan\n",
            "Witness for the Prosecution\n",
            "Avengers: Infinity War\n",
            "Aliens\n",
            "American Beauty\n",
            "Dr. Strangelove or: How I Learned to Stop Worrying and Love the Bomb\n",
            "Spider-Man: Into the Spider-Verse\n",
            "The Dark Knight Rises\n",
            "Oldboy\n",
            "Joker\n",
            "Amadeus\n",
            "Braveheart\n",
            "Toy Story\n",
            "Coco\n",
            "The Boat\n",
            "Inglourious Basterds\n",
            "Princess Mononoke\n",
            "Avengers: Endgame\n",
            "Once Upon a Time in America\n",
            "Good Will Hunting\n",
            "Toy Story 3\n",
            "Requiem for a Dream\n",
            "Your Name.\n",
            "Singin' in the Rain\n",
            "3 Idiots\n",
            "Star Wars: Episode VI - Return of the Jedi\n",
            "2001: A Space Odyssey\n",
            "Eternal Sunshine of the Spotless Mind\n",
            "Reservoir Dogs\n",
            "High and Low\n",
            "Capernaum\n",
            "Citizen Kane\n",
            "Lawrence of Arabia\n",
            "The Hunt\n",
            "M\n",
            "North by Northwest\n",
            "Vertigo\n",
            "Amélie\n",
            "Come and See\n",
            "A Clockwork Orange\n",
            "Full Metal Jacket\n",
            "Double Indemnity\n",
            "The Apartment\n",
            "Scarface\n",
            "nan\n",
            "The Sting\n",
            "To Kill a Mockingbird\n",
            "Taxi Driver\n",
            "Up\n",
            "L.A. Confidential\n",
            "Heat\n",
            "Metropolis\n",
            "A Separation\n",
            "Die Hard\n",
            "Snatch\n",
            "Incendies\n",
            "Hamilton\n",
            "Indiana Jones and the Last Crusade\n",
            "nan\n",
            "1917\n",
            "Like Stars on Earth\n",
            "Downfall\n",
            "For a Few Dollars More\n",
            "Batman Begins\n",
            "Dangal\n",
            "Spider-Man: No Way Home\n",
            "nan\n",
            "Some Like It Hot\n",
            "All About Eve\n",
            "The Father\n",
            "Green Book\n",
            "The Wolf of Wall Street\n",
            "Judgment at Nuremberg\n",
            "Ran\n",
            "Unforgiven\n",
            "Casino\n",
            "Pan's Labyrinth\n",
            "There Will Be Blood\n",
            "The Sixth Sense\n",
            "A Beautiful Mind\n",
            "The Truman Show\n",
            "Monty Python and the Holy Grail\n",
            "nan\n",
            "The Treasure of the Sierra Madre\n",
            "Shutter Island\n",
            "nan\n",
            "Jurassic Park\n",
            "The Great Escape\n",
            "Kill Bill: Vol. 1\n",
            "No Country for Old Men\n",
            "Everything Everywhere All at Once\n",
            "Finding Nemo\n",
            "The Elephant Man\n",
            "Chinatown\n",
            "Raging Bull\n",
            "Gone with the Wind\n",
            "V for Vendetta\n",
            "The Thing\n",
            "Inside Out\n",
            "Lock, Stock and Two Smoking Barrels\n",
            "Dial M for Murder\n",
            "The Secret in Their Eyes\n",
            "Howl's Moving Castle\n",
            "The Bridge on the River Kwai\n",
            "Three Billboards Outside Ebbing, Missouri\n",
            "Trainspotting\n",
            "Warrior\n",
            "Gran Torino\n",
            "Fargo\n",
            "Prisoners\n",
            "My Neighbor Totoro\n",
            "Million Dollar Baby\n",
            "nan\n",
            "Catch Me If You Can\n",
            "Blade Runner\n",
            "On the Waterfront\n",
            "The Third Man\n",
            "nan\n",
            "Ben-Hur\n",
            "nan\n",
            "12 Years a Slave\n",
            "nan\n",
            "Before Sunrise\n",
            "Gone Girl\n",
            "Harry Potter and the Deathly Hallows: Part 2\n",
            "The Deer Hunter\n",
            "In the Name of the Father\n",
            "The Grand Budapest Hotel\n",
            "nan\n",
            "nan\n",
            "Barry Lyndon\n",
            "nan\n",
            "Memories of Murder\n",
            "Klaus\n",
            "Hacksaw Ridge\n",
            "The Seventh Seal\n",
            "Room\n",
            "Wild Tales\n",
            "The Big Lebowski\n",
            "Mad Max: Fury Road\n",
            "How to Train Your Dragon\n",
            "nan\n",
            "Monsters, Inc.\n",
            "Jaws\n",
            "nan\n",
            "nan\n",
            "Dead Poets Society\n",
            "Hotel Rwanda\n",
            "Rocky\n",
            "Platoon\n",
            "nan\n",
            "Ford v Ferrari\n",
            "Stand by Me\n",
            "The Terminator\n",
            "Spotlight\n",
            "Rush\n",
            "Network\n",
            "Into the Wild\n",
            "Logan\n",
            "The Wizard of Oz\n",
            "Ratatouille\n",
            "Groundhog Day\n",
            "Before Sunset\n",
            "The Exorcist\n",
            "The Best Years of Our Lives\n",
            "The Incredibles\n",
            "nan\n",
            "nan\n",
            "Rebecca\n",
            "nan\n",
            "Hachi: A Dog's Tale\n",
            "Cool Hand Luke\n",
            "Amores perros\n",
            "Pirates of the Caribbean: The Curse of the Black Pearl\n",
            "La Haine\n",
            "nan\n",
            "Persona\n",
            "nan\n",
            "nan\n",
            "Life of Brian\n",
            "The Sound of Music\n",
            "nan\n",
            "The Handmaiden\n",
            "Aladdin\n",
            "Gandhi\n",
            "Jai Bhim\n",
            "The Help\n",
            "Beauty and the Beast\n"
          ]
        }
      ]
    },
    {
      "cell_type": "code",
      "source": [
        "# title = s.split('\\n')\n",
        "title = title[1:-1]"
      ],
      "metadata": {
        "id": "u_aoCFoToFNw"
      },
      "execution_count": null,
      "outputs": []
    },
    {
      "cell_type": "code",
      "source": [
        "len(title),len(year),len(rating),len(num_reviews),len(popularity),len(cast),len(director),len(description)"
      ],
      "metadata": {
        "colab": {
          "base_uri": "https://localhost:8080/"
        },
        "id": "tdFAJx9qnDuO",
        "outputId": "cb684ab6-13bd-463d-d239-082b79a7feec"
      },
      "execution_count": null,
      "outputs": [
        {
          "output_type": "execute_result",
          "data": {
            "text/plain": [
              "(250, 250, 250, 250, 225, 250, 250, 250)"
            ]
          },
          "metadata": {},
          "execution_count": 129
        }
      ]
    },
    {
      "cell_type": "code",
      "source": [
        "title = pd.Series(np.array(title))\n",
        "year = pd.Series(np.array(year))\n",
        "rating = pd.Series(np.array(rating))\n",
        "num_reviews = pd.Series(np.array(num_reviews))\n",
        "popularity = pd.Series(np.array(popularity))\n",
        "cast = pd.Series(np.array(cast))\n",
        "director = pd.Series(np.array(director))\n",
        "description = pd.Series(np.array(description))"
      ],
      "metadata": {
        "id": "KgI3TxXlnUkT"
      },
      "execution_count": null,
      "outputs": []
    },
    {
      "cell_type": "code",
      "source": [
        "df = pd.DataFrame({'Title':title,'Year of Release':year,'Rating':rating,'Number of Reviews':num_reviews,'Popularity Index':popularity,'Movie Cast':cast,'Director':director,'Description':description})"
      ],
      "metadata": {
        "id": "XsG5Yf_EdF73"
      },
      "execution_count": null,
      "outputs": []
    },
    {
      "cell_type": "code",
      "source": [
        "df.head()"
      ],
      "metadata": {
        "colab": {
          "base_uri": "https://localhost:8080/",
          "height": 441
        },
        "id": "hEHPkVyAnA5W",
        "outputId": "73f64d66-4ac3-42bf-f0ad-8d35063e325a"
      },
      "execution_count": null,
      "outputs": [
        {
          "output_type": "execute_result",
          "data": {
            "text/plain": [
              "                      Title Year of Release Rating Number of Reviews  \\\n",
              "0  The Shawshank Redemption            1994    9.3              2.6M   \n",
              "1             The Godfather            1972    9.2              1.8M   \n",
              "2           The Dark Knight            2008    9.0              2.6M   \n",
              "3    The Godfather: Part II            1974    9.0              1.2M   \n",
              "4              12 Angry Men            1957    9.0              771K   \n",
              "\n",
              "  Popularity Index                                         Movie Cast  \\\n",
              "0               66  [Tim Robbins, Morgan Freeman, Bob Gunton, Will...   \n",
              "1               17  [Marlon Brando, Al Pacino, James Caan, Diane K...   \n",
              "2               91  [Christian Bale, Heath Ledger, Aaron Eckhart, ...   \n",
              "3              102  [Al Pacino, Robert De Niro, Robert Duvall, Dia...   \n",
              "4              446  [Henry Fonda, Lee J. Cobb, Martin Balsam, John...   \n",
              "\n",
              "               Director                                        Description  \n",
              "0        Frank Darabont  Two imprisoned men bond over a number of years...  \n",
              "1  Francis Ford Coppola  The aging patriarch of an organized crime dyna...  \n",
              "2     Christopher Nolan  When the menace known as the Joker wreaks havo...  \n",
              "3  Francis Ford Coppola  The early life and career of Vito Corleone in ...  \n",
              "4          Sidney Lumet  The jury in a New York City murder trial is fr...  "
            ],
            "text/html": [
              "\n",
              "  <div id=\"df-b7a79333-ac3d-4494-bed0-dff45ec2feb4\">\n",
              "    <div class=\"colab-df-container\">\n",
              "      <div>\n",
              "<style scoped>\n",
              "    .dataframe tbody tr th:only-of-type {\n",
              "        vertical-align: middle;\n",
              "    }\n",
              "\n",
              "    .dataframe tbody tr th {\n",
              "        vertical-align: top;\n",
              "    }\n",
              "\n",
              "    .dataframe thead th {\n",
              "        text-align: right;\n",
              "    }\n",
              "</style>\n",
              "<table border=\"1\" class=\"dataframe\">\n",
              "  <thead>\n",
              "    <tr style=\"text-align: right;\">\n",
              "      <th></th>\n",
              "      <th>Title</th>\n",
              "      <th>Year of Release</th>\n",
              "      <th>Rating</th>\n",
              "      <th>Number of Reviews</th>\n",
              "      <th>Popularity Index</th>\n",
              "      <th>Movie Cast</th>\n",
              "      <th>Director</th>\n",
              "      <th>Description</th>\n",
              "    </tr>\n",
              "  </thead>\n",
              "  <tbody>\n",
              "    <tr>\n",
              "      <th>0</th>\n",
              "      <td>The Shawshank Redemption</td>\n",
              "      <td>1994</td>\n",
              "      <td>9.3</td>\n",
              "      <td>2.6M</td>\n",
              "      <td>66</td>\n",
              "      <td>[Tim Robbins, Morgan Freeman, Bob Gunton, Will...</td>\n",
              "      <td>Frank Darabont</td>\n",
              "      <td>Two imprisoned men bond over a number of years...</td>\n",
              "    </tr>\n",
              "    <tr>\n",
              "      <th>1</th>\n",
              "      <td>The Godfather</td>\n",
              "      <td>1972</td>\n",
              "      <td>9.2</td>\n",
              "      <td>1.8M</td>\n",
              "      <td>17</td>\n",
              "      <td>[Marlon Brando, Al Pacino, James Caan, Diane K...</td>\n",
              "      <td>Francis Ford Coppola</td>\n",
              "      <td>The aging patriarch of an organized crime dyna...</td>\n",
              "    </tr>\n",
              "    <tr>\n",
              "      <th>2</th>\n",
              "      <td>The Dark Knight</td>\n",
              "      <td>2008</td>\n",
              "      <td>9.0</td>\n",
              "      <td>2.6M</td>\n",
              "      <td>91</td>\n",
              "      <td>[Christian Bale, Heath Ledger, Aaron Eckhart, ...</td>\n",
              "      <td>Christopher Nolan</td>\n",
              "      <td>When the menace known as the Joker wreaks havo...</td>\n",
              "    </tr>\n",
              "    <tr>\n",
              "      <th>3</th>\n",
              "      <td>The Godfather: Part II</td>\n",
              "      <td>1974</td>\n",
              "      <td>9.0</td>\n",
              "      <td>1.2M</td>\n",
              "      <td>102</td>\n",
              "      <td>[Al Pacino, Robert De Niro, Robert Duvall, Dia...</td>\n",
              "      <td>Francis Ford Coppola</td>\n",
              "      <td>The early life and career of Vito Corleone in ...</td>\n",
              "    </tr>\n",
              "    <tr>\n",
              "      <th>4</th>\n",
              "      <td>12 Angry Men</td>\n",
              "      <td>1957</td>\n",
              "      <td>9.0</td>\n",
              "      <td>771K</td>\n",
              "      <td>446</td>\n",
              "      <td>[Henry Fonda, Lee J. Cobb, Martin Balsam, John...</td>\n",
              "      <td>Sidney Lumet</td>\n",
              "      <td>The jury in a New York City murder trial is fr...</td>\n",
              "    </tr>\n",
              "  </tbody>\n",
              "</table>\n",
              "</div>\n",
              "      <button class=\"colab-df-convert\" onclick=\"convertToInteractive('df-b7a79333-ac3d-4494-bed0-dff45ec2feb4')\"\n",
              "              title=\"Convert this dataframe to an interactive table.\"\n",
              "              style=\"display:none;\">\n",
              "        \n",
              "  <svg xmlns=\"http://www.w3.org/2000/svg\" height=\"24px\"viewBox=\"0 0 24 24\"\n",
              "       width=\"24px\">\n",
              "    <path d=\"M0 0h24v24H0V0z\" fill=\"none\"/>\n",
              "    <path d=\"M18.56 5.44l.94 2.06.94-2.06 2.06-.94-2.06-.94-.94-2.06-.94 2.06-2.06.94zm-11 1L8.5 8.5l.94-2.06 2.06-.94-2.06-.94L8.5 2.5l-.94 2.06-2.06.94zm10 10l.94 2.06.94-2.06 2.06-.94-2.06-.94-.94-2.06-.94 2.06-2.06.94z\"/><path d=\"M17.41 7.96l-1.37-1.37c-.4-.4-.92-.59-1.43-.59-.52 0-1.04.2-1.43.59L10.3 9.45l-7.72 7.72c-.78.78-.78 2.05 0 2.83L4 21.41c.39.39.9.59 1.41.59.51 0 1.02-.2 1.41-.59l7.78-7.78 2.81-2.81c.8-.78.8-2.07 0-2.86zM5.41 20L4 18.59l7.72-7.72 1.47 1.35L5.41 20z\"/>\n",
              "  </svg>\n",
              "      </button>\n",
              "      \n",
              "  <style>\n",
              "    .colab-df-container {\n",
              "      display:flex;\n",
              "      flex-wrap:wrap;\n",
              "      gap: 12px;\n",
              "    }\n",
              "\n",
              "    .colab-df-convert {\n",
              "      background-color: #E8F0FE;\n",
              "      border: none;\n",
              "      border-radius: 50%;\n",
              "      cursor: pointer;\n",
              "      display: none;\n",
              "      fill: #1967D2;\n",
              "      height: 32px;\n",
              "      padding: 0 0 0 0;\n",
              "      width: 32px;\n",
              "    }\n",
              "\n",
              "    .colab-df-convert:hover {\n",
              "      background-color: #E2EBFA;\n",
              "      box-shadow: 0px 1px 2px rgba(60, 64, 67, 0.3), 0px 1px 3px 1px rgba(60, 64, 67, 0.15);\n",
              "      fill: #174EA6;\n",
              "    }\n",
              "\n",
              "    [theme=dark] .colab-df-convert {\n",
              "      background-color: #3B4455;\n",
              "      fill: #D2E3FC;\n",
              "    }\n",
              "\n",
              "    [theme=dark] .colab-df-convert:hover {\n",
              "      background-color: #434B5C;\n",
              "      box-shadow: 0px 1px 3px 1px rgba(0, 0, 0, 0.15);\n",
              "      filter: drop-shadow(0px 1px 2px rgba(0, 0, 0, 0.3));\n",
              "      fill: #FFFFFF;\n",
              "    }\n",
              "  </style>\n",
              "\n",
              "      <script>\n",
              "        const buttonEl =\n",
              "          document.querySelector('#df-b7a79333-ac3d-4494-bed0-dff45ec2feb4 button.colab-df-convert');\n",
              "        buttonEl.style.display =\n",
              "          google.colab.kernel.accessAllowed ? 'block' : 'none';\n",
              "\n",
              "        async function convertToInteractive(key) {\n",
              "          const element = document.querySelector('#df-b7a79333-ac3d-4494-bed0-dff45ec2feb4');\n",
              "          const dataTable =\n",
              "            await google.colab.kernel.invokeFunction('convertToInteractive',\n",
              "                                                     [key], {});\n",
              "          if (!dataTable) return;\n",
              "\n",
              "          const docLinkHtml = 'Like what you see? Visit the ' +\n",
              "            '<a target=\"_blank\" href=https://colab.research.google.com/notebooks/data_table.ipynb>data table notebook</a>'\n",
              "            + ' to learn more about interactive tables.';\n",
              "          element.innerHTML = '';\n",
              "          dataTable['output_type'] = 'display_data';\n",
              "          await google.colab.output.renderOutput(dataTable, element);\n",
              "          const docLink = document.createElement('div');\n",
              "          docLink.innerHTML = docLinkHtml;\n",
              "          element.appendChild(docLink);\n",
              "        }\n",
              "      </script>\n",
              "    </div>\n",
              "  </div>\n",
              "  "
            ]
          },
          "metadata": {},
          "execution_count": 133
        }
      ]
    },
    {
      "cell_type": "code",
      "source": [
        "df.isnull().sum()"
      ],
      "metadata": {
        "colab": {
          "base_uri": "https://localhost:8080/"
        },
        "id": "-ZIjzTxooyxn",
        "outputId": "dc2c798c-e4c8-4d47-9a4b-d9e4ec0c567f"
      },
      "execution_count": null,
      "outputs": [
        {
          "output_type": "execute_result",
          "data": {
            "text/plain": [
              "Title                 0\n",
              "Year of Release       0\n",
              "Rating                0\n",
              "Number of Reviews     0\n",
              "Popularity Index     25\n",
              "Movie Cast            0\n",
              "Director              0\n",
              "Description           0\n",
              "dtype: int64"
            ]
          },
          "metadata": {},
          "execution_count": 135
        }
      ]
    },
    {
      "cell_type": "code",
      "source": [
        "df['Title'] = df['Title'].replace({'nan':np.nan})"
      ],
      "metadata": {
        "id": "QXxTkwCvo0GP"
      },
      "execution_count": null,
      "outputs": []
    },
    {
      "cell_type": "code",
      "source": [
        "df.isnull().sum()"
      ],
      "metadata": {
        "colab": {
          "base_uri": "https://localhost:8080/"
        },
        "id": "CyoVQK6Bo45k",
        "outputId": "7146725e-85d8-4d62-8afa-df0aad214696"
      },
      "execution_count": null,
      "outputs": [
        {
          "output_type": "execute_result",
          "data": {
            "text/plain": [
              "Title                25\n",
              "Year of Release       0\n",
              "Rating                0\n",
              "Number of Reviews     0\n",
              "Popularity Index     25\n",
              "Movie Cast            0\n",
              "Director              0\n",
              "Description           0\n",
              "dtype: int64"
            ]
          },
          "metadata": {},
          "execution_count": 143
        }
      ]
    },
    {
      "cell_type": "code",
      "source": [
        "df[df['Title'].isnull()]"
      ],
      "metadata": {
        "colab": {
          "base_uri": "https://localhost:8080/",
          "height": 1000
        },
        "id": "OPD_Lna4pQZ2",
        "outputId": "c7680e11-4f2d-44bf-880c-66a823465bcc"
      },
      "execution_count": null,
      "outputs": [
        {
          "output_type": "execute_result",
          "data": {
            "text/plain": [
              "    Title Year of Release Rating Number of Reviews Popularity Index  \\\n",
              "51    NaN            1931    8.5              183K            1,629   \n",
              "62    NaN            1940    8.4              221K              136   \n",
              "106   NaN            1952    8.3               77K              194   \n",
              "120   NaN            1948    8.3              162K            2,393   \n",
              "128   NaN            1921    8.3              125K               78   \n",
              "144   NaN            1961    8.2              122K              376   \n",
              "147   NaN            1950    8.2              167K            2,395   \n",
              "174   NaN            1925    8.2              110K              341   \n",
              "179   NaN            1997    8.2               74K            2,254   \n",
              "181   NaN            1926    8.2               91K            3,838   \n",
              "183   NaN            1957    8.1              106K            3,237   \n",
              "190   NaN            1939    8.1              115K               64   \n",
              "191   NaN            1953    8.2               61K              557   \n",
              "193   NaN            1924    8.2               49K              369   \n",
              "203   NaN            2009    8.1              176K              790   \n",
              "206   NaN            1928    8.2               54K            1,917   \n",
              "207   NaN            1953    8.2               61K              595   \n",
              "212   NaN            1955    8.3               32K            2,743   \n",
              "228   NaN            1942    8.2               37K              NaN   \n",
              "229   NaN            1940    8.1               92K              NaN   \n",
              "231   NaN            1966    8.1               60K              NaN   \n",
              "237   NaN            1959    8.1              116K              NaN   \n",
              "239   NaN            2005    8.2               86K              NaN   \n",
              "240   NaN            1934    8.1              103K              NaN   \n",
              "243   NaN            1975    8.2               29K              NaN   \n",
              "\n",
              "                                            Movie Cast               Director  \\\n",
              "51   [Charles Chaplin, Virginia Cherrill, Florence ...        Charles Chaplin   \n",
              "62   [Charles Chaplin, Paulette Goddard, Jack Oakie...        Charles Chaplin   \n",
              "106  [Takashi Shimura, Nobuo Kaneko, Shin'ichi Himo...         Akira Kurosawa   \n",
              "120  [Lamberto Maggiorani, Enzo Staiola, Lianella C...       Vittorio De Sica   \n",
              "128  [Charles Chaplin, Edna Purviance, Jackie Cooga...        Charles Chaplin   \n",
              "144  [Toshirô Mifune, Eijirô Tôno, Tatsuya Nakadai,...         Akira Kurosawa   \n",
              "147  [Toshirô Mifune, Machiko Kyô, Masayuki Mori, T...         Akira Kurosawa   \n",
              "174  [Charles Chaplin, Mack Swain, Tom Murray, Henr...        Charles Chaplin   \n",
              "179  [Mohammad Amir Naji, Amir Farrokh Hashemian, B...           Majid Majidi   \n",
              "181  [Buster Keaton, Marion Mack, Glen Cavender, Ji...         Clyde Bruckman   \n",
              "183  [Victor Sjöström, Bibi Andersson, Ingrid Thuli...         Ingmar Bergman   \n",
              "190  [James Stewart, Jean Arthur, Claude Rains, Edw...            Frank Capra   \n",
              "191  [Yves Montand, Charles Vanel, Peter van Eyck, ...  Henri-Georges Clouzot   \n",
              "193  [Buster Keaton, Kathryn McGuire, Joe Keaton, E...          Buster Keaton   \n",
              "203  [Toni Collette, Philip Seymour Hoffman, Eric B...            Adam Elliot   \n",
              "206  [Maria Falconetti, Eugene Silvain, André Berle...    Carl Theodor Dreyer   \n",
              "207  [Chishû Ryû, Chieko Higashiyama, Sô Yamamura, ...           Yasujirô Ozu   \n",
              "212  [Kanu Bannerjee, Karuna Bannerjee, Subir Baner...           Satyajit Ray   \n",
              "228  [Carole Lombard, Jack Benny, Robert Stack, Fel...         Ernst Lubitsch   \n",
              "229  [Henry Fonda, Jane Darwell, John Carradine, Ch...              John Ford   \n",
              "231  [Brahim Hadjadj, Jean Martin, Yacef Saadi, Sam...       Gillo Pontecorvo   \n",
              "237  [Jean-Pierre Léaud, Albert Rémy, Claire Maurie...      François Truffaut   \n",
              "239  [Çetin Tekindor, Fikret Kuskan, Hümeyra, Ege T...            Cagan Irmak   \n",
              "240  [Clark Gable, Claudette Colbert, Walter Connol...            Frank Capra   \n",
              "243  [Maksim Munzuk, Yuriy Solomin, Mikhail Bychkov...         Akira Kurosawa   \n",
              "\n",
              "                                           Description  \n",
              "51   With the aid of a wealthy erratic tippler, a d...  \n",
              "62   Dictator Adenoid Hynkel tries to expand his em...  \n",
              "106  A bureaucrat tries to find meaning in his life...  \n",
              "120  In post-war Italy, a working-class man's bicyc...  \n",
              "128  The Tramp cares for an abandoned child, but ev...  \n",
              "144  A crafty ronin comes to a town divided by two ...  \n",
              "147  The rape of a bride and the murder of her samu...  \n",
              "174  A prospector goes to the Klondike during the 1...  \n",
              "179  After a boy loses his sister's pair of shoes, ...  \n",
              "181  After being rejected by the Confederate milita...  \n",
              "183  After living a life marked by coldness, an agi...  \n",
              "190  A naive youth leader is appointed to fill a va...  \n",
              "191  In a decrepit South American village, four men...  \n",
              "193  A film projectionist longs to be a detective, ...  \n",
              "203  A tale of friendship between two unlikely pen ...  \n",
              "206  In 1431, Jeanne d'Arc is placed on trial on ch...  \n",
              "207  An old couple visit their children and grandch...  \n",
              "212  Impoverished priest Harihar Ray, dreaming of a...  \n",
              "228  During the Nazi occupation of Poland, an actin...  \n",
              "229  An Oklahoma family, driven off their farm by t...  \n",
              "231  In the 1950s, fear and violence escalate as th...  \n",
              "237  A young boy, left without attention, delves in...  \n",
              "239  The family of a left-wing journalist is torn a...  \n",
              "240  A renegade reporter trailing a young runaway h...  \n",
              "243  The Russian army sends an explorer on an exped...  "
            ],
            "text/html": [
              "\n",
              "  <div id=\"df-2e106832-18cf-453b-af3f-b456b36e9e1e\">\n",
              "    <div class=\"colab-df-container\">\n",
              "      <div>\n",
              "<style scoped>\n",
              "    .dataframe tbody tr th:only-of-type {\n",
              "        vertical-align: middle;\n",
              "    }\n",
              "\n",
              "    .dataframe tbody tr th {\n",
              "        vertical-align: top;\n",
              "    }\n",
              "\n",
              "    .dataframe thead th {\n",
              "        text-align: right;\n",
              "    }\n",
              "</style>\n",
              "<table border=\"1\" class=\"dataframe\">\n",
              "  <thead>\n",
              "    <tr style=\"text-align: right;\">\n",
              "      <th></th>\n",
              "      <th>Title</th>\n",
              "      <th>Year of Release</th>\n",
              "      <th>Rating</th>\n",
              "      <th>Number of Reviews</th>\n",
              "      <th>Popularity Index</th>\n",
              "      <th>Movie Cast</th>\n",
              "      <th>Director</th>\n",
              "      <th>Description</th>\n",
              "    </tr>\n",
              "  </thead>\n",
              "  <tbody>\n",
              "    <tr>\n",
              "      <th>51</th>\n",
              "      <td>NaN</td>\n",
              "      <td>1931</td>\n",
              "      <td>8.5</td>\n",
              "      <td>183K</td>\n",
              "      <td>1,629</td>\n",
              "      <td>[Charles Chaplin, Virginia Cherrill, Florence ...</td>\n",
              "      <td>Charles Chaplin</td>\n",
              "      <td>With the aid of a wealthy erratic tippler, a d...</td>\n",
              "    </tr>\n",
              "    <tr>\n",
              "      <th>62</th>\n",
              "      <td>NaN</td>\n",
              "      <td>1940</td>\n",
              "      <td>8.4</td>\n",
              "      <td>221K</td>\n",
              "      <td>136</td>\n",
              "      <td>[Charles Chaplin, Paulette Goddard, Jack Oakie...</td>\n",
              "      <td>Charles Chaplin</td>\n",
              "      <td>Dictator Adenoid Hynkel tries to expand his em...</td>\n",
              "    </tr>\n",
              "    <tr>\n",
              "      <th>106</th>\n",
              "      <td>NaN</td>\n",
              "      <td>1952</td>\n",
              "      <td>8.3</td>\n",
              "      <td>77K</td>\n",
              "      <td>194</td>\n",
              "      <td>[Takashi Shimura, Nobuo Kaneko, Shin'ichi Himo...</td>\n",
              "      <td>Akira Kurosawa</td>\n",
              "      <td>A bureaucrat tries to find meaning in his life...</td>\n",
              "    </tr>\n",
              "    <tr>\n",
              "      <th>120</th>\n",
              "      <td>NaN</td>\n",
              "      <td>1948</td>\n",
              "      <td>8.3</td>\n",
              "      <td>162K</td>\n",
              "      <td>2,393</td>\n",
              "      <td>[Lamberto Maggiorani, Enzo Staiola, Lianella C...</td>\n",
              "      <td>Vittorio De Sica</td>\n",
              "      <td>In post-war Italy, a working-class man's bicyc...</td>\n",
              "    </tr>\n",
              "    <tr>\n",
              "      <th>128</th>\n",
              "      <td>NaN</td>\n",
              "      <td>1921</td>\n",
              "      <td>8.3</td>\n",
              "      <td>125K</td>\n",
              "      <td>78</td>\n",
              "      <td>[Charles Chaplin, Edna Purviance, Jackie Cooga...</td>\n",
              "      <td>Charles Chaplin</td>\n",
              "      <td>The Tramp cares for an abandoned child, but ev...</td>\n",
              "    </tr>\n",
              "    <tr>\n",
              "      <th>144</th>\n",
              "      <td>NaN</td>\n",
              "      <td>1961</td>\n",
              "      <td>8.2</td>\n",
              "      <td>122K</td>\n",
              "      <td>376</td>\n",
              "      <td>[Toshirô Mifune, Eijirô Tôno, Tatsuya Nakadai,...</td>\n",
              "      <td>Akira Kurosawa</td>\n",
              "      <td>A crafty ronin comes to a town divided by two ...</td>\n",
              "    </tr>\n",
              "    <tr>\n",
              "      <th>147</th>\n",
              "      <td>NaN</td>\n",
              "      <td>1950</td>\n",
              "      <td>8.2</td>\n",
              "      <td>167K</td>\n",
              "      <td>2,395</td>\n",
              "      <td>[Toshirô Mifune, Machiko Kyô, Masayuki Mori, T...</td>\n",
              "      <td>Akira Kurosawa</td>\n",
              "      <td>The rape of a bride and the murder of her samu...</td>\n",
              "    </tr>\n",
              "    <tr>\n",
              "      <th>174</th>\n",
              "      <td>NaN</td>\n",
              "      <td>1925</td>\n",
              "      <td>8.2</td>\n",
              "      <td>110K</td>\n",
              "      <td>341</td>\n",
              "      <td>[Charles Chaplin, Mack Swain, Tom Murray, Henr...</td>\n",
              "      <td>Charles Chaplin</td>\n",
              "      <td>A prospector goes to the Klondike during the 1...</td>\n",
              "    </tr>\n",
              "    <tr>\n",
              "      <th>179</th>\n",
              "      <td>NaN</td>\n",
              "      <td>1997</td>\n",
              "      <td>8.2</td>\n",
              "      <td>74K</td>\n",
              "      <td>2,254</td>\n",
              "      <td>[Mohammad Amir Naji, Amir Farrokh Hashemian, B...</td>\n",
              "      <td>Majid Majidi</td>\n",
              "      <td>After a boy loses his sister's pair of shoes, ...</td>\n",
              "    </tr>\n",
              "    <tr>\n",
              "      <th>181</th>\n",
              "      <td>NaN</td>\n",
              "      <td>1926</td>\n",
              "      <td>8.2</td>\n",
              "      <td>91K</td>\n",
              "      <td>3,838</td>\n",
              "      <td>[Buster Keaton, Marion Mack, Glen Cavender, Ji...</td>\n",
              "      <td>Clyde Bruckman</td>\n",
              "      <td>After being rejected by the Confederate milita...</td>\n",
              "    </tr>\n",
              "    <tr>\n",
              "      <th>183</th>\n",
              "      <td>NaN</td>\n",
              "      <td>1957</td>\n",
              "      <td>8.1</td>\n",
              "      <td>106K</td>\n",
              "      <td>3,237</td>\n",
              "      <td>[Victor Sjöström, Bibi Andersson, Ingrid Thuli...</td>\n",
              "      <td>Ingmar Bergman</td>\n",
              "      <td>After living a life marked by coldness, an agi...</td>\n",
              "    </tr>\n",
              "    <tr>\n",
              "      <th>190</th>\n",
              "      <td>NaN</td>\n",
              "      <td>1939</td>\n",
              "      <td>8.1</td>\n",
              "      <td>115K</td>\n",
              "      <td>64</td>\n",
              "      <td>[James Stewart, Jean Arthur, Claude Rains, Edw...</td>\n",
              "      <td>Frank Capra</td>\n",
              "      <td>A naive youth leader is appointed to fill a va...</td>\n",
              "    </tr>\n",
              "    <tr>\n",
              "      <th>191</th>\n",
              "      <td>NaN</td>\n",
              "      <td>1953</td>\n",
              "      <td>8.2</td>\n",
              "      <td>61K</td>\n",
              "      <td>557</td>\n",
              "      <td>[Yves Montand, Charles Vanel, Peter van Eyck, ...</td>\n",
              "      <td>Henri-Georges Clouzot</td>\n",
              "      <td>In a decrepit South American village, four men...</td>\n",
              "    </tr>\n",
              "    <tr>\n",
              "      <th>193</th>\n",
              "      <td>NaN</td>\n",
              "      <td>1924</td>\n",
              "      <td>8.2</td>\n",
              "      <td>49K</td>\n",
              "      <td>369</td>\n",
              "      <td>[Buster Keaton, Kathryn McGuire, Joe Keaton, E...</td>\n",
              "      <td>Buster Keaton</td>\n",
              "      <td>A film projectionist longs to be a detective, ...</td>\n",
              "    </tr>\n",
              "    <tr>\n",
              "      <th>203</th>\n",
              "      <td>NaN</td>\n",
              "      <td>2009</td>\n",
              "      <td>8.1</td>\n",
              "      <td>176K</td>\n",
              "      <td>790</td>\n",
              "      <td>[Toni Collette, Philip Seymour Hoffman, Eric B...</td>\n",
              "      <td>Adam Elliot</td>\n",
              "      <td>A tale of friendship between two unlikely pen ...</td>\n",
              "    </tr>\n",
              "    <tr>\n",
              "      <th>206</th>\n",
              "      <td>NaN</td>\n",
              "      <td>1928</td>\n",
              "      <td>8.2</td>\n",
              "      <td>54K</td>\n",
              "      <td>1,917</td>\n",
              "      <td>[Maria Falconetti, Eugene Silvain, André Berle...</td>\n",
              "      <td>Carl Theodor Dreyer</td>\n",
              "      <td>In 1431, Jeanne d'Arc is placed on trial on ch...</td>\n",
              "    </tr>\n",
              "    <tr>\n",
              "      <th>207</th>\n",
              "      <td>NaN</td>\n",
              "      <td>1953</td>\n",
              "      <td>8.2</td>\n",
              "      <td>61K</td>\n",
              "      <td>595</td>\n",
              "      <td>[Chishû Ryû, Chieko Higashiyama, Sô Yamamura, ...</td>\n",
              "      <td>Yasujirô Ozu</td>\n",
              "      <td>An old couple visit their children and grandch...</td>\n",
              "    </tr>\n",
              "    <tr>\n",
              "      <th>212</th>\n",
              "      <td>NaN</td>\n",
              "      <td>1955</td>\n",
              "      <td>8.3</td>\n",
              "      <td>32K</td>\n",
              "      <td>2,743</td>\n",
              "      <td>[Kanu Bannerjee, Karuna Bannerjee, Subir Baner...</td>\n",
              "      <td>Satyajit Ray</td>\n",
              "      <td>Impoverished priest Harihar Ray, dreaming of a...</td>\n",
              "    </tr>\n",
              "    <tr>\n",
              "      <th>228</th>\n",
              "      <td>NaN</td>\n",
              "      <td>1942</td>\n",
              "      <td>8.2</td>\n",
              "      <td>37K</td>\n",
              "      <td>NaN</td>\n",
              "      <td>[Carole Lombard, Jack Benny, Robert Stack, Fel...</td>\n",
              "      <td>Ernst Lubitsch</td>\n",
              "      <td>During the Nazi occupation of Poland, an actin...</td>\n",
              "    </tr>\n",
              "    <tr>\n",
              "      <th>229</th>\n",
              "      <td>NaN</td>\n",
              "      <td>1940</td>\n",
              "      <td>8.1</td>\n",
              "      <td>92K</td>\n",
              "      <td>NaN</td>\n",
              "      <td>[Henry Fonda, Jane Darwell, John Carradine, Ch...</td>\n",
              "      <td>John Ford</td>\n",
              "      <td>An Oklahoma family, driven off their farm by t...</td>\n",
              "    </tr>\n",
              "    <tr>\n",
              "      <th>231</th>\n",
              "      <td>NaN</td>\n",
              "      <td>1966</td>\n",
              "      <td>8.1</td>\n",
              "      <td>60K</td>\n",
              "      <td>NaN</td>\n",
              "      <td>[Brahim Hadjadj, Jean Martin, Yacef Saadi, Sam...</td>\n",
              "      <td>Gillo Pontecorvo</td>\n",
              "      <td>In the 1950s, fear and violence escalate as th...</td>\n",
              "    </tr>\n",
              "    <tr>\n",
              "      <th>237</th>\n",
              "      <td>NaN</td>\n",
              "      <td>1959</td>\n",
              "      <td>8.1</td>\n",
              "      <td>116K</td>\n",
              "      <td>NaN</td>\n",
              "      <td>[Jean-Pierre Léaud, Albert Rémy, Claire Maurie...</td>\n",
              "      <td>François Truffaut</td>\n",
              "      <td>A young boy, left without attention, delves in...</td>\n",
              "    </tr>\n",
              "    <tr>\n",
              "      <th>239</th>\n",
              "      <td>NaN</td>\n",
              "      <td>2005</td>\n",
              "      <td>8.2</td>\n",
              "      <td>86K</td>\n",
              "      <td>NaN</td>\n",
              "      <td>[Çetin Tekindor, Fikret Kuskan, Hümeyra, Ege T...</td>\n",
              "      <td>Cagan Irmak</td>\n",
              "      <td>The family of a left-wing journalist is torn a...</td>\n",
              "    </tr>\n",
              "    <tr>\n",
              "      <th>240</th>\n",
              "      <td>NaN</td>\n",
              "      <td>1934</td>\n",
              "      <td>8.1</td>\n",
              "      <td>103K</td>\n",
              "      <td>NaN</td>\n",
              "      <td>[Clark Gable, Claudette Colbert, Walter Connol...</td>\n",
              "      <td>Frank Capra</td>\n",
              "      <td>A renegade reporter trailing a young runaway h...</td>\n",
              "    </tr>\n",
              "    <tr>\n",
              "      <th>243</th>\n",
              "      <td>NaN</td>\n",
              "      <td>1975</td>\n",
              "      <td>8.2</td>\n",
              "      <td>29K</td>\n",
              "      <td>NaN</td>\n",
              "      <td>[Maksim Munzuk, Yuriy Solomin, Mikhail Bychkov...</td>\n",
              "      <td>Akira Kurosawa</td>\n",
              "      <td>The Russian army sends an explorer on an exped...</td>\n",
              "    </tr>\n",
              "  </tbody>\n",
              "</table>\n",
              "</div>\n",
              "      <button class=\"colab-df-convert\" onclick=\"convertToInteractive('df-2e106832-18cf-453b-af3f-b456b36e9e1e')\"\n",
              "              title=\"Convert this dataframe to an interactive table.\"\n",
              "              style=\"display:none;\">\n",
              "        \n",
              "  <svg xmlns=\"http://www.w3.org/2000/svg\" height=\"24px\"viewBox=\"0 0 24 24\"\n",
              "       width=\"24px\">\n",
              "    <path d=\"M0 0h24v24H0V0z\" fill=\"none\"/>\n",
              "    <path d=\"M18.56 5.44l.94 2.06.94-2.06 2.06-.94-2.06-.94-.94-2.06-.94 2.06-2.06.94zm-11 1L8.5 8.5l.94-2.06 2.06-.94-2.06-.94L8.5 2.5l-.94 2.06-2.06.94zm10 10l.94 2.06.94-2.06 2.06-.94-2.06-.94-.94-2.06-.94 2.06-2.06.94z\"/><path d=\"M17.41 7.96l-1.37-1.37c-.4-.4-.92-.59-1.43-.59-.52 0-1.04.2-1.43.59L10.3 9.45l-7.72 7.72c-.78.78-.78 2.05 0 2.83L4 21.41c.39.39.9.59 1.41.59.51 0 1.02-.2 1.41-.59l7.78-7.78 2.81-2.81c.8-.78.8-2.07 0-2.86zM5.41 20L4 18.59l7.72-7.72 1.47 1.35L5.41 20z\"/>\n",
              "  </svg>\n",
              "      </button>\n",
              "      \n",
              "  <style>\n",
              "    .colab-df-container {\n",
              "      display:flex;\n",
              "      flex-wrap:wrap;\n",
              "      gap: 12px;\n",
              "    }\n",
              "\n",
              "    .colab-df-convert {\n",
              "      background-color: #E8F0FE;\n",
              "      border: none;\n",
              "      border-radius: 50%;\n",
              "      cursor: pointer;\n",
              "      display: none;\n",
              "      fill: #1967D2;\n",
              "      height: 32px;\n",
              "      padding: 0 0 0 0;\n",
              "      width: 32px;\n",
              "    }\n",
              "\n",
              "    .colab-df-convert:hover {\n",
              "      background-color: #E2EBFA;\n",
              "      box-shadow: 0px 1px 2px rgba(60, 64, 67, 0.3), 0px 1px 3px 1px rgba(60, 64, 67, 0.15);\n",
              "      fill: #174EA6;\n",
              "    }\n",
              "\n",
              "    [theme=dark] .colab-df-convert {\n",
              "      background-color: #3B4455;\n",
              "      fill: #D2E3FC;\n",
              "    }\n",
              "\n",
              "    [theme=dark] .colab-df-convert:hover {\n",
              "      background-color: #434B5C;\n",
              "      box-shadow: 0px 1px 3px 1px rgba(0, 0, 0, 0.15);\n",
              "      filter: drop-shadow(0px 1px 2px rgba(0, 0, 0, 0.3));\n",
              "      fill: #FFFFFF;\n",
              "    }\n",
              "  </style>\n",
              "\n",
              "      <script>\n",
              "        const buttonEl =\n",
              "          document.querySelector('#df-2e106832-18cf-453b-af3f-b456b36e9e1e button.colab-df-convert');\n",
              "        buttonEl.style.display =\n",
              "          google.colab.kernel.accessAllowed ? 'block' : 'none';\n",
              "\n",
              "        async function convertToInteractive(key) {\n",
              "          const element = document.querySelector('#df-2e106832-18cf-453b-af3f-b456b36e9e1e');\n",
              "          const dataTable =\n",
              "            await google.colab.kernel.invokeFunction('convertToInteractive',\n",
              "                                                     [key], {});\n",
              "          if (!dataTable) return;\n",
              "\n",
              "          const docLinkHtml = 'Like what you see? Visit the ' +\n",
              "            '<a target=\"_blank\" href=https://colab.research.google.com/notebooks/data_table.ipynb>data table notebook</a>'\n",
              "            + ' to learn more about interactive tables.';\n",
              "          element.innerHTML = '';\n",
              "          dataTable['output_type'] = 'display_data';\n",
              "          await google.colab.output.renderOutput(dataTable, element);\n",
              "          const docLink = document.createElement('div');\n",
              "          docLink.innerHTML = docLinkHtml;\n",
              "          element.appendChild(docLink);\n",
              "        }\n",
              "      </script>\n",
              "    </div>\n",
              "  </div>\n",
              "  "
            ]
          },
          "metadata": {},
          "execution_count": 144
        }
      ]
    },
    {
      "cell_type": "code",
      "source": [
        "df = df.dropna().reset_index().drop(['index'],axis=1)"
      ],
      "metadata": {
        "id": "4XN-adCZyvHD"
      },
      "execution_count": null,
      "outputs": []
    },
    {
      "cell_type": "code",
      "source": [
        "df.to_csv('Top 200 Movies.csv',index=False)"
      ],
      "metadata": {
        "id": "k2kcBm3rywGa"
      },
      "execution_count": null,
      "outputs": []
    }
  ]
}